{
  "nbformat": 4,
  "nbformat_minor": 0,
  "metadata": {
    "colab": {
      "provenance": [],
      "authorship_tag": "ABX9TyNi0bgp94LGGRMiJ0RTXHir",
      "include_colab_link": true
    },
    "kernelspec": {
      "name": "python3",
      "display_name": "Python 3"
    },
    "language_info": {
      "name": "python"
    }
  },
  "cells": [
    {
      "cell_type": "markdown",
      "metadata": {
        "id": "view-in-github",
        "colab_type": "text"
      },
      "source": [
        "<a href=\"https://colab.research.google.com/github/adag21044/NLP_intro/blob/main/NLP_intro.ipynb\" target=\"_parent\"><img src=\"https://colab.research.google.com/assets/colab-badge.svg\" alt=\"Open In Colab\"/></a>"
      ]
    },
    {
      "cell_type": "markdown",
      "source": [
        "The def keyword is used to define a class in Python.\n"
      ],
      "metadata": {
        "id": "V3HBgv3jcDzt"
      }
    },
    {
      "cell_type": "markdown",
      "source": [
        "Chromepy is not usable for writing Python code"
      ],
      "metadata": {
        "id": "isx9w8yRci4n"
      }
    },
    {
      "cell_type": "markdown",
      "source": [
        "More than one object cannot be derived from a class."
      ],
      "metadata": {
        "id": "zQz5wF05dNPM"
      }
    },
    {
      "cell_type": "markdown",
      "source": [
        "Python file extension is .py"
      ],
      "metadata": {
        "id": "Lbx83b93dfLv"
      }
    },
    {
      "cell_type": "markdown",
      "source": [
        "You can create a function with def function()"
      ],
      "metadata": {
        "id": "9nD4SB1Hduj4"
      }
    },
    {
      "cell_type": "markdown",
      "source": [
        "Constructor is required to create a new unique instance"
      ],
      "metadata": {
        "id": "FvAXbRv_ep78"
      }
    },
    {
      "cell_type": "markdown",
      "source": [
        "Encapsulation is used to hide methods and attributes from other classes and prevent access by other classes.\n"
      ],
      "metadata": {
        "id": "SHshTx-kfoEb"
      }
    },
    {
      "cell_type": "markdown",
      "source": [
        "An abstract class is a class with no object"
      ],
      "metadata": {
        "id": "uEhqufxgf4Db"
      }
    },
    {
      "cell_type": "code",
      "source": [
        "class Animal:\n",
        "    def make_sound(self):\n",
        "        \"\"\"Parent class method\"\"\"\n",
        "        print(\"Some generic animal sound\")\n",
        "\n",
        "# Child class (subclass) overriding the method\n",
        "class Dog(Animal):\n",
        "    def make_sound(self):\n",
        "        \"\"\"Overriding the parent class method\"\"\"\n",
        "        print(\"Bark! Bark!\")\n",
        "\n",
        "# Another child class\n",
        "class Cat(Animal):\n",
        "    def make_sound(self):\n",
        "        \"\"\"Overriding the parent class method\"\"\"\n",
        "        print(\"Meow! Meow!\")\n",
        "\n",
        "# Instances\n",
        "animal = Animal()\n",
        "dog = Dog()\n",
        "cat = Cat()\n",
        "\n",
        "# Calling methods\n",
        "animal.make_sound()  # Output: Some generic animal sound\n",
        "dog.make_sound()     # Output: Bark! Bark!\n",
        "cat.make_sound()     # Output: Meow! Meow!\n"
      ],
      "metadata": {
        "colab": {
          "base_uri": "https://localhost:8080/"
        },
        "id": "XGvXDYuHgrGG",
        "outputId": "aaa1e7ba-fcdf-4f77-f16a-2a10e50e7182"
      },
      "execution_count": 1,
      "outputs": [
        {
          "output_type": "stream",
          "name": "stdout",
          "text": [
            "Some generic animal sound\n",
            "Bark! Bark!\n",
            "Meow! Meow!\n"
          ]
        }
      ]
    },
    {
      "cell_type": "code",
      "execution_count": null,
      "metadata": {
        "colab": {
          "base_uri": "https://localhost:8080/"
        },
        "id": "vowyryNbLtPi",
        "outputId": "79910bc8-4605-4a20-8721-4677a62694cd"
      },
      "outputs": [
        {
          "output_type": "stream",
          "name": "stdout",
          "text": [
            "Enter your name: Hilary\n",
            "All letters are not upper\n"
          ]
        }
      ],
      "source": [
        "name =  input(\"Enter your name: \")\n",
        "\n",
        "if name.isupper():\n",
        "  print(\"All letters are upper\")\n",
        "else:\n",
        "  print(\"All letters are not upper\")"
      ]
    },
    {
      "cell_type": "code",
      "source": [
        "age = int(input(\"Enter your age: \"))\n",
        "\n",
        "if age > 18:\n",
        "  print(\"You can get driver licence\")\n",
        "elif age < 18:\n",
        "  if age > 0:\n",
        "    print(\"You are not adult\")\n",
        "  else:\n",
        "    print(\"You weren't even born yet\")"
      ],
      "metadata": {
        "colab": {
          "base_uri": "https://localhost:8080/"
        },
        "id": "HAXarP9aNCdi",
        "outputId": "73d4dcb7-d106-4680-929f-258472d8e11c"
      },
      "execution_count": null,
      "outputs": [
        {
          "output_type": "stream",
          "name": "stdout",
          "text": [
            "Enter your age: -8\n",
            "You weren't even born yet\n"
          ]
        }
      ]
    },
    {
      "cell_type": "markdown",
      "source": [
        "Python ile görüntü işleme, web kazıma, istatiksel uygulamalar ve bot programları yazmak mümkündür."
      ],
      "metadata": {
        "id": "fMx2dHsDOsri"
      }
    },
    {
      "cell_type": "code",
      "source": [
        "a = \"İstanbul Medeniyet Üniversitesi BVB E.A.B.D.\"\n",
        "a.split()"
      ],
      "metadata": {
        "colab": {
          "base_uri": "https://localhost:8080/"
        },
        "id": "3DXegEqjVcKR",
        "outputId": "560f07a9-8ee1-4db1-e85a-a19acd57aa4c"
      },
      "execution_count": null,
      "outputs": [
        {
          "output_type": "execute_result",
          "data": {
            "text/plain": [
              "['İstanbul', 'Medeniyet', 'Üniversitesi', 'BVB', 'E.A.B.D.']"
            ]
          },
          "metadata": {},
          "execution_count": 22
        }
      ]
    },
    {
      "cell_type": "code",
      "source": [
        "list2 = []\n",
        "\n",
        "#adding elements to list\n",
        "for i in range(5):\n",
        "  item = input(\"Enter numbers \")\n",
        "  list2.append(item)\n",
        "\n",
        "for i in range(5):\n",
        "  print(list2[i])\n"
      ],
      "metadata": {
        "colab": {
          "base_uri": "https://localhost:8080/"
        },
        "id": "4xhealEuPbFw",
        "outputId": "9c434e81-cea3-43b5-a039-e13aa6c310fb"
      },
      "execution_count": null,
      "outputs": [
        {
          "output_type": "stream",
          "name": "stdout",
          "text": [
            "Enter numbers 5\n",
            "Enter numbers 4\n",
            "Enter numbers 3\n",
            "Enter numbers 2\n",
            "Enter numbers 1\n",
            "5\n",
            "4\n",
            "3\n",
            "2\n",
            "1\n"
          ]
        }
      ]
    },
    {
      "cell_type": "code",
      "source": [
        "names = () #empty tuple\n",
        "\n",
        "name_list = []\n",
        "\n",
        "for i in range(3):\n",
        "  element = input(\"Enter name: \")\n",
        "  name_list.append(element)\n",
        "\n",
        "names = tuple(name_list)\n",
        "\n",
        "print(names)"
      ],
      "metadata": {
        "colab": {
          "base_uri": "https://localhost:8080/"
        },
        "id": "ZiH57uBvQuiB",
        "outputId": "4de28afc-a572-48f2-d770-3a616ec33d86"
      },
      "execution_count": null,
      "outputs": [
        {
          "output_type": "stream",
          "name": "stdout",
          "text": [
            "Enter name: Megan\n",
            "Enter name: Lisa \n",
            "Enter name: Ashley\n",
            "('Megan', 'Lisa ', 'Ashley')\n"
          ]
        }
      ]
    },
    {
      "cell_type": "code",
      "source": [
        "user_input = print(\"Enter inputs with space\")\n",
        "user_input = input()\n",
        "\n",
        "list3 = user_input.split()\n",
        "\n",
        "if(len(list3) > 0):\n",
        "  print(\"First element: \", list3[0])\n",
        "  print(\"Last element: \", list3[-1])\n",
        "else:\n",
        "  print(\"List is empty\")\n",
        "\n"
      ],
      "metadata": {
        "colab": {
          "base_uri": "https://localhost:8080/"
        },
        "id": "alqix4Z0VsrC",
        "outputId": "96de5711-89fc-4908-f94b-ab13c78f104c"
      },
      "execution_count": null,
      "outputs": [
        {
          "output_type": "stream",
          "name": "stdout",
          "text": [
            "Enter inputs with space\n",
            "1 2 3 4 5\n",
            "First element:  1\n",
            "Last element:  5\n"
          ]
        }
      ]
    },
    {
      "cell_type": "code",
      "source": [
        "tuple = (\"apple\", \"cherry\", \"banana\", \"strawberry\")\n",
        "\n",
        "for item in tuple:\n",
        "  print(item)"
      ],
      "metadata": {
        "colab": {
          "base_uri": "https://localhost:8080/"
        },
        "id": "4_rlFz8AYjgS",
        "outputId": "01d8683d-4ab4-47e6-9ba0-9582f0f3ef36"
      },
      "execution_count": null,
      "outputs": [
        {
          "output_type": "stream",
          "name": "stdout",
          "text": [
            "apple\n",
            "cherry\n",
            "banana\n",
            "strawberry\n"
          ]
        }
      ]
    },
    {
      "cell_type": "code",
      "source": [
        "user_input = input(\"Enter elements of the list: \")\n",
        "\n",
        "list4 = user_input.split()\n",
        "\n",
        "new_element = input(\"Enter new element: \")\n",
        "\n",
        "list4.append(new_element)\n",
        "\n",
        "print(list4)"
      ],
      "metadata": {
        "colab": {
          "base_uri": "https://localhost:8080/"
        },
        "id": "nwAOAnwcY6kf",
        "outputId": "4d96cd95-4796-4f95-fdc7-6bf8eff07647"
      },
      "execution_count": null,
      "outputs": [
        {
          "output_type": "stream",
          "name": "stdout",
          "text": [
            "Enter elements of the list: 1 2 3\n",
            "Enter new element: 4\n",
            "['1', '2', '3', '4']\n"
          ]
        }
      ]
    },
    {
      "cell_type": "code",
      "source": [
        "def isim_yas_listesi():\n",
        "  liste = []\n",
        "  for i in range(5):\n",
        "    isim = input(\"İsim\")\n",
        "    yas = int(input(\"Yaş\" ))\n",
        "    kisi = (isim, yas)\n",
        "    liste.append(kisi)\n",
        "\n",
        "  sirali_liste = sorted(liste, key=lambda x: x[1])\n",
        "  print(\"Yaşa göre sıralı liste:\", sirali_liste)"
      ],
      "metadata": {
        "id": "9PDD835KaPaP"
      },
      "execution_count": null,
      "outputs": []
    },
    {
      "cell_type": "code",
      "source": [
        "user_input = input(\"Enter your id \")\n",
        "\n",
        "def check_id(id_str):\n",
        "  if id_str.isdigit():\n",
        "    id = int(id_str)\n",
        "    length = len(str(abs(id)))\n",
        "    return length\n",
        "  else:\n",
        "    return 0\n",
        "\n",
        "length = check_id(user_input)\n",
        "\n",
        "if(length == 11):\n",
        "  print(\"Valid id\")\n",
        "elif(length == 0):\n",
        "  print(\"Invalid id\")\n",
        "else:\n",
        "  print(f\"ID must be 11 digits, but it has {length} digits.\")\n",
        "\n",
        "\n"
      ],
      "metadata": {
        "colab": {
          "base_uri": "https://localhost:8080/"
        },
        "id": "P2xZnt_WbSjQ",
        "outputId": "bd049270-47b5-4fb9-aea0-a65155d186e4"
      },
      "execution_count": null,
      "outputs": [
        {
          "output_type": "stream",
          "name": "stdout",
          "text": [
            "Enter your id s\n",
            "Invalid id\n"
          ]
        }
      ]
    },
    {
      "cell_type": "code",
      "source": [
        "import os\n",
        "import nltk\n",
        "\n",
        "# Eski nltk_data klasörlerini kaldır (ÖNEMLİ!)\n",
        "!rm -rf /root/nltk_data\n",
        "!rm -rf /content/nltk_data\n",
        "\n",
        "# Yeni nltk_data dizini oluştur\n",
        "nltk_data_dir = \"/root/nltk_data\"\n",
        "os.makedirs(nltk_data_dir, exist_ok=True)\n",
        "\n",
        "# Ortam değişkenini güncelle (Opsiyonel)\n",
        "os.environ[\"NLTK_DATA\"] = nltk_data_dir\n",
        "\n",
        "# Yeni verileri indir\n",
        "nltk.download('stopwords', download_dir=nltk_data_dir)\n",
        "nltk.download('punkt', download_dir=nltk_data_dir)\n",
        "\n",
        "# NLTK'nin bu dizini arama yoluna ekleyelim\n",
        "nltk.data.path.append(nltk_data_dir)\n",
        "\n",
        "# Kontrol için stopwords verisini yüklemeye çalış\n",
        "from nltk.corpus import stopwords\n",
        "stoplist = stopwords.words('english')\n",
        "print(\"Stopwords başarıyla yüklendi:\", stoplist[:10])\n"
      ],
      "metadata": {
        "colab": {
          "base_uri": "https://localhost:8080/"
        },
        "id": "_jiF6UoHpYl9",
        "outputId": "66b63e37-68dd-47b1-e1e0-53e7b9eba347"
      },
      "execution_count": null,
      "outputs": [
        {
          "output_type": "stream",
          "name": "stderr",
          "text": [
            "[nltk_data] Downloading package stopwords to /root/nltk_data...\n",
            "[nltk_data]   Unzipping corpora/stopwords.zip.\n",
            "[nltk_data] Downloading package punkt to /root/nltk_data...\n",
            "[nltk_data]   Unzipping tokenizers/punkt.zip.\n"
          ]
        },
        {
          "output_type": "stream",
          "name": "stdout",
          "text": [
            "Stopwords başarıyla yüklendi: ['i', 'me', 'my', 'myself', 'we', 'our', 'ours', 'ourselves', 'you', \"you're\"]\n"
          ]
        }
      ]
    },
    {
      "cell_type": "code",
      "source": [
        "pip install NLTK"
      ],
      "metadata": {
        "colab": {
          "base_uri": "https://localhost:8080/"
        },
        "id": "YiU7-KGGqB7z",
        "outputId": "d37751b2-5cbc-496d-db54-262378cb3829"
      },
      "execution_count": null,
      "outputs": [
        {
          "output_type": "stream",
          "name": "stdout",
          "text": [
            "Requirement already satisfied: NLTK in /usr/local/lib/python3.11/dist-packages (3.9.1)\n",
            "Requirement already satisfied: click in /usr/local/lib/python3.11/dist-packages (from NLTK) (8.1.8)\n",
            "Requirement already satisfied: joblib in /usr/local/lib/python3.11/dist-packages (from NLTK) (1.4.2)\n",
            "Requirement already satisfied: regex>=2021.8.3 in /usr/local/lib/python3.11/dist-packages (from NLTK) (2024.11.6)\n",
            "Requirement already satisfied: tqdm in /usr/local/lib/python3.11/dist-packages (from NLTK) (4.67.1)\n"
          ]
        }
      ]
    },
    {
      "cell_type": "code",
      "source": [
        "nltk.download('stopwords')"
      ],
      "metadata": {
        "colab": {
          "base_uri": "https://localhost:8080/"
        },
        "id": "eZotwzb3qQCN",
        "outputId": "3250fd83-e36b-4a22-b851-8a022b175898"
      },
      "execution_count": null,
      "outputs": [
        {
          "output_type": "stream",
          "name": "stderr",
          "text": [
            "[nltk_data] Downloading package stopwords to /root/nltk_data...\n",
            "[nltk_data]   Package stopwords is already up-to-date!\n"
          ]
        },
        {
          "output_type": "execute_result",
          "data": {
            "text/plain": [
              "True"
            ]
          },
          "metadata": {},
          "execution_count": 9
        }
      ]
    },
    {
      "cell_type": "code",
      "source": [
        "nltk.download('punkt')\n",
        "nltk.download('punkt_tab')"
      ],
      "metadata": {
        "colab": {
          "base_uri": "https://localhost:8080/"
        },
        "id": "Uh852CSdqRzk",
        "outputId": "bbf4ae6c-c247-4952-b9ff-6f2fde7253a2"
      },
      "execution_count": null,
      "outputs": [
        {
          "output_type": "stream",
          "name": "stderr",
          "text": [
            "[nltk_data] Downloading package punkt to /root/nltk_data...\n",
            "[nltk_data]   Package punkt is already up-to-date!\n",
            "[nltk_data] Downloading package punkt_tab to /root/nltk_data...\n",
            "[nltk_data]   Unzipping tokenizers/punkt_tab.zip.\n"
          ]
        },
        {
          "output_type": "execute_result",
          "data": {
            "text/plain": [
              "True"
            ]
          },
          "metadata": {},
          "execution_count": 12
        }
      ]
    },
    {
      "cell_type": "code",
      "source": [
        "import nltk\n",
        "from nltk.corpus import stopwords\n",
        "from nltk.tokenize import word_tokenize\n",
        "\n",
        "\n",
        "\n",
        "def remove_stopwords(sentence):\n",
        "    stop_words = set(stopwords.words('english'))  # İngilizce durdurma sözcükleri\n",
        "    words = word_tokenize(sentence)               # Cümleyi kelimelere ayır\n",
        "    filtered_words = [w for w in words if w.lower() not in stop_words]\n",
        "    return \" \".join(filtered_words)\n",
        "\n",
        "# Örnek kullanım\n",
        "sentence = \"This is an example of natural language processing using Python.\"\n",
        "print(remove_stopwords(sentence))\n"
      ],
      "metadata": {
        "colab": {
          "base_uri": "https://localhost:8080/"
        },
        "id": "7bRuKejGopLg",
        "outputId": "02eac0da-ecda-4fad-957d-4a01d89013aa"
      },
      "execution_count": null,
      "outputs": [
        {
          "output_type": "stream",
          "name": "stdout",
          "text": [
            "example natural language processing using Python .\n"
          ]
        }
      ]
    },
    {
      "cell_type": "code",
      "source": [
        "!pip install --upgrade pip\n",
        "!pip install --upgrade setuptools wheel\n",
        "!pip install jpype1\n"
      ],
      "metadata": {
        "colab": {
          "base_uri": "https://localhost:8080/",
          "height": 679
        },
        "id": "cjftlegjtkIX",
        "outputId": "c98b374c-a7be-434e-bd76-d9ed2e8298cd"
      },
      "execution_count": null,
      "outputs": [
        {
          "output_type": "stream",
          "name": "stdout",
          "text": [
            "Requirement already satisfied: pip in /usr/local/lib/python3.11/dist-packages (24.1.2)\n",
            "Collecting pip\n",
            "  Downloading pip-25.0.1-py3-none-any.whl.metadata (3.7 kB)\n",
            "Downloading pip-25.0.1-py3-none-any.whl (1.8 MB)\n",
            "\u001b[2K   \u001b[90m━━━━━━━━━━━━━━━━━━━━━━━━━━━━━━━━━━━━━━━━\u001b[0m \u001b[32m1.8/1.8 MB\u001b[0m \u001b[31m20.0 MB/s\u001b[0m eta \u001b[36m0:00:00\u001b[0m\n",
            "\u001b[?25hInstalling collected packages: pip\n",
            "  Attempting uninstall: pip\n",
            "    Found existing installation: pip 24.1.2\n",
            "    Uninstalling pip-24.1.2:\n",
            "      Successfully uninstalled pip-24.1.2\n",
            "Successfully installed pip-25.0.1\n",
            "Requirement already satisfied: setuptools in /usr/local/lib/python3.11/dist-packages (75.1.0)\n",
            "Collecting setuptools\n",
            "  Downloading setuptools-75.8.0-py3-none-any.whl.metadata (6.7 kB)\n",
            "Requirement already satisfied: wheel in /usr/local/lib/python3.11/dist-packages (0.45.1)\n",
            "Downloading setuptools-75.8.0-py3-none-any.whl (1.2 MB)\n",
            "\u001b[2K   \u001b[90m━━━━━━━━━━━━━━━━━━━━━━━━━━━━━━━━━━━━━━━━\u001b[0m \u001b[32m1.2/1.2 MB\u001b[0m \u001b[31m19.1 MB/s\u001b[0m eta \u001b[36m0:00:00\u001b[0m\n",
            "\u001b[?25hInstalling collected packages: setuptools\n",
            "  Attempting uninstall: setuptools\n",
            "    Found existing installation: setuptools 75.1.0\n",
            "    Uninstalling setuptools-75.1.0:\n",
            "      Successfully uninstalled setuptools-75.1.0\n",
            "\u001b[31mERROR: pip's dependency resolver does not currently take into account all the packages that are installed. This behaviour is the source of the following dependency conflicts.\n",
            "ipython 7.34.0 requires jedi>=0.16, which is not installed.\u001b[0m\u001b[31m\n",
            "\u001b[0mSuccessfully installed setuptools-75.8.0\n"
          ]
        },
        {
          "output_type": "display_data",
          "data": {
            "application/vnd.colab-display-data+json": {
              "pip_warning": {
                "packages": [
                  "_distutils_hack"
                ]
              },
              "id": "b39058ec1b96499faecf235ecfe46b47"
            }
          },
          "metadata": {}
        },
        {
          "output_type": "stream",
          "name": "stdout",
          "text": [
            "Collecting jpype1\n",
            "  Downloading jpype1-1.5.2-cp311-cp311-manylinux_2_17_x86_64.manylinux2014_x86_64.whl.metadata (4.9 kB)\n",
            "Requirement already satisfied: packaging in /usr/local/lib/python3.11/dist-packages (from jpype1) (24.2)\n",
            "Downloading jpype1-1.5.2-cp311-cp311-manylinux_2_17_x86_64.manylinux2014_x86_64.whl (494 kB)\n",
            "Installing collected packages: jpype1\n",
            "Successfully installed jpype1-1.5.2\n"
          ]
        }
      ]
    },
    {
      "cell_type": "code",
      "source": [
        "import jpype\n",
        "\n",
        "if jpype.isJVMStarted():\n",
        "    jpype.shutdownJVM()\n"
      ],
      "metadata": {
        "id": "PetWf_IpuqJL"
      },
      "execution_count": null,
      "outputs": []
    },
    {
      "cell_type": "code",
      "source": [
        "# Java JDK ve gerekli bağımlılıkları yükleyelim\n",
        "!apt-get install -y openjdk-11-jdk-headless\n",
        "\n",
        "# Cython ve pyjnius'u yükleyelim\n",
        "!pip install --no-cache-dir cython\n",
        "!pip install --no-cache-dir pyjnius\n",
        "\n",
        "# Zemberek JAR dosyasını indirelim\n",
        "!wget -q https://github.com/ahmetaa/zemberek-nlp/releases/download/v0.17/zemberek-nlp-0.17.jar -O /content/zemberek.jar\n"
      ],
      "metadata": {
        "colab": {
          "base_uri": "https://localhost:8080/"
        },
        "id": "nI7t0Tstus8c",
        "outputId": "b66fc84f-340e-406e-d558-79597e24c503"
      },
      "execution_count": null,
      "outputs": [
        {
          "output_type": "stream",
          "name": "stdout",
          "text": [
            "Reading package lists... Done\n",
            "Building dependency tree... Done\n",
            "Reading state information... Done\n",
            "openjdk-11-jdk-headless is already the newest version (11.0.26+4-1ubuntu1~22.04).\n",
            "0 upgraded, 0 newly installed, 0 to remove and 20 not upgraded.\n",
            "Requirement already satisfied: cython in /usr/local/lib/python3.11/dist-packages (3.0.12)\n",
            "Requirement already satisfied: pyjnius in /usr/local/lib/python3.11/dist-packages (1.6.1)\n"
          ]
        }
      ]
    },
    {
      "cell_type": "code",
      "source": [
        "import os\n",
        "os.environ[\"JAVA_HOME\"] = \"/usr/lib/jvm/java-11-openjdk-amd64\"\n",
        "os.environ[\"CLASSPATH\"] = \"/content/zemberek.jar\"\n"
      ],
      "metadata": {
        "id": "akGgOEiLzWYB"
      },
      "execution_count": null,
      "outputs": []
    },
    {
      "cell_type": "code",
      "source": [
        "!ls -lh /content/zemberek.jar\n"
      ],
      "metadata": {
        "colab": {
          "base_uri": "https://localhost:8080/"
        },
        "id": "USkeLdCVzuL6",
        "outputId": "3808f5eb-4aa5-4f8e-cdb0-47e27fbe914c"
      },
      "execution_count": null,
      "outputs": [
        {
          "output_type": "stream",
          "name": "stdout",
          "text": [
            "-rw-r--r-- 1 root root 0 Feb 19 15:22 /content/zemberek.jar\n"
          ]
        }
      ]
    },
    {
      "cell_type": "code",
      "source": [
        "from jnius import autoclass\n",
        "\n",
        "# Zemberek sınıflarını yükleyelim\n",
        "TurkishMorphology = autoclass(\"zemberek.morphology.TurkishMorphology\")\n",
        "morphology = TurkishMorphology.createWithDefaults()\n",
        "\n",
        "print(\"Zemberek NLP başarıyla başlatıldı!\")\n"
      ],
      "metadata": {
        "colab": {
          "base_uri": "https://localhost:8080/",
          "height": 418
        },
        "id": "6qTC4bCBzrU6",
        "outputId": "75d36ea9-10a8-4d15-cdb9-fbb3d56d9264"
      },
      "execution_count": null,
      "outputs": [
        {
          "output_type": "error",
          "ename": "JavaException",
          "evalue": "JVM exception occurred: zemberek/morphology/TurkishMorphology java.lang.NoClassDefFoundError",
          "traceback": [
            "\u001b[0;31m---------------------------------------------------------------------------\u001b[0m",
            "\u001b[0;31mJavaException\u001b[0m                             Traceback (most recent call last)",
            "\u001b[0;32m<ipython-input-1-572c7dc3c3ee>\u001b[0m in \u001b[0;36m<cell line: 0>\u001b[0;34m()\u001b[0m\n\u001b[1;32m      2\u001b[0m \u001b[0;34m\u001b[0m\u001b[0m\n\u001b[1;32m      3\u001b[0m \u001b[0;31m# Zemberek sınıflarını yükleyelim\u001b[0m\u001b[0;34m\u001b[0m\u001b[0;34m\u001b[0m\u001b[0m\n\u001b[0;32m----> 4\u001b[0;31m \u001b[0mTurkishMorphology\u001b[0m \u001b[0;34m=\u001b[0m \u001b[0mautoclass\u001b[0m\u001b[0;34m(\u001b[0m\u001b[0;34m\"zemberek.morphology.TurkishMorphology\"\u001b[0m\u001b[0;34m)\u001b[0m\u001b[0;34m\u001b[0m\u001b[0;34m\u001b[0m\u001b[0m\n\u001b[0m\u001b[1;32m      5\u001b[0m \u001b[0mmorphology\u001b[0m \u001b[0;34m=\u001b[0m \u001b[0mTurkishMorphology\u001b[0m\u001b[0;34m.\u001b[0m\u001b[0mcreateWithDefaults\u001b[0m\u001b[0;34m(\u001b[0m\u001b[0;34m)\u001b[0m\u001b[0;34m\u001b[0m\u001b[0;34m\u001b[0m\u001b[0m\n\u001b[1;32m      6\u001b[0m \u001b[0;34m\u001b[0m\u001b[0m\n",
            "\u001b[0;32m/usr/local/lib/python3.11/dist-packages/jnius/reflect.py\u001b[0m in \u001b[0;36mautoclass\u001b[0;34m(clsname, include_protected, include_private)\u001b[0m\n\u001b[1;32m    207\u001b[0m \u001b[0;34m\u001b[0m\u001b[0m\n\u001b[1;32m    208\u001b[0m     \u001b[0;31m# c = Class.forName(clsname)\u001b[0m\u001b[0;34m\u001b[0m\u001b[0;34m\u001b[0m\u001b[0m\n\u001b[0;32m--> 209\u001b[0;31m     \u001b[0mc\u001b[0m \u001b[0;34m=\u001b[0m \u001b[0mfind_javaclass\u001b[0m\u001b[0;34m(\u001b[0m\u001b[0mclsname\u001b[0m\u001b[0;34m)\u001b[0m\u001b[0;34m\u001b[0m\u001b[0;34m\u001b[0m\u001b[0m\n\u001b[0m\u001b[1;32m    210\u001b[0m     \u001b[0;32mif\u001b[0m \u001b[0mc\u001b[0m \u001b[0;32mis\u001b[0m \u001b[0;32mNone\u001b[0m\u001b[0;34m:\u001b[0m\u001b[0;34m\u001b[0m\u001b[0;34m\u001b[0m\u001b[0m\n\u001b[1;32m    211\u001b[0m         \u001b[0;32mraise\u001b[0m \u001b[0mException\u001b[0m\u001b[0;34m(\u001b[0m\u001b[0;34m'Java class {0} not found'\u001b[0m\u001b[0;34m.\u001b[0m\u001b[0mformat\u001b[0m\u001b[0;34m(\u001b[0m\u001b[0mc\u001b[0m\u001b[0;34m)\u001b[0m\u001b[0;34m)\u001b[0m\u001b[0;34m\u001b[0m\u001b[0;34m\u001b[0m\u001b[0m\n",
            "\u001b[0;32mjnius/jnius_export_func.pxi\u001b[0m in \u001b[0;36mjnius.find_javaclass\u001b[0;34m()\u001b[0m\n",
            "\u001b[0;32mjnius/jnius_utils.pxi\u001b[0m in \u001b[0;36mjnius.check_exception\u001b[0;34m()\u001b[0m\n",
            "\u001b[0;31mJavaException\u001b[0m: JVM exception occurred: zemberek/morphology/TurkishMorphology java.lang.NoClassDefFoundError"
          ]
        }
      ]
    },
    {
      "cell_type": "code",
      "source": [
        "# Kök bulma fonksiyonu\n",
        "def find_stem(word):\n",
        "    analysis = morphology.analyze(word)\n",
        "    results = [result.getStem() for result in analysis]\n",
        "    return results[0] if results else word\n",
        "\n",
        "# Örnek kullanım\n",
        "metin = \"Öğrenciler sınavlara çalışırken bazen zorlanıyorlar.\"\n",
        "kelimeler = metin.split()\n",
        "kokler = [find_stem(kelime) for kelime in kelimeler]\n",
        "\n",
        "print(\"Orijinal:\", kelimeler)\n",
        "print(\"Kökler:\", kokler)\n"
      ],
      "metadata": {
        "colab": {
          "base_uri": "https://localhost:8080/",
          "height": 370
        },
        "id": "TbFvjyDLzZGx",
        "outputId": "ad2edd92-b954-4031-fee1-ebf940bacef7"
      },
      "execution_count": null,
      "outputs": [
        {
          "output_type": "error",
          "ename": "NameError",
          "evalue": "name 'morphology' is not defined",
          "traceback": [
            "\u001b[0;31m---------------------------------------------------------------------------\u001b[0m",
            "\u001b[0;31mNameError\u001b[0m                                 Traceback (most recent call last)",
            "\u001b[0;32m<ipython-input-28-a3432c0f8d40>\u001b[0m in \u001b[0;36m<cell line: 0>\u001b[0;34m()\u001b[0m\n\u001b[1;32m      8\u001b[0m \u001b[0mmetin\u001b[0m \u001b[0;34m=\u001b[0m \u001b[0;34m\"Öğrenciler sınavlara çalışırken bazen zorlanıyorlar.\"\u001b[0m\u001b[0;34m\u001b[0m\u001b[0;34m\u001b[0m\u001b[0m\n\u001b[1;32m      9\u001b[0m \u001b[0mkelimeler\u001b[0m \u001b[0;34m=\u001b[0m \u001b[0mmetin\u001b[0m\u001b[0;34m.\u001b[0m\u001b[0msplit\u001b[0m\u001b[0;34m(\u001b[0m\u001b[0;34m)\u001b[0m\u001b[0;34m\u001b[0m\u001b[0;34m\u001b[0m\u001b[0m\n\u001b[0;32m---> 10\u001b[0;31m \u001b[0mkokler\u001b[0m \u001b[0;34m=\u001b[0m \u001b[0;34m[\u001b[0m\u001b[0mfind_stem\u001b[0m\u001b[0;34m(\u001b[0m\u001b[0mkelime\u001b[0m\u001b[0;34m)\u001b[0m \u001b[0;32mfor\u001b[0m \u001b[0mkelime\u001b[0m \u001b[0;32min\u001b[0m \u001b[0mkelimeler\u001b[0m\u001b[0;34m]\u001b[0m\u001b[0;34m\u001b[0m\u001b[0;34m\u001b[0m\u001b[0m\n\u001b[0m\u001b[1;32m     11\u001b[0m \u001b[0;34m\u001b[0m\u001b[0m\n\u001b[1;32m     12\u001b[0m \u001b[0mprint\u001b[0m\u001b[0;34m(\u001b[0m\u001b[0;34m\"Orijinal:\"\u001b[0m\u001b[0;34m,\u001b[0m \u001b[0mkelimeler\u001b[0m\u001b[0;34m)\u001b[0m\u001b[0;34m\u001b[0m\u001b[0;34m\u001b[0m\u001b[0m\n",
            "\u001b[0;32m<ipython-input-28-a3432c0f8d40>\u001b[0m in \u001b[0;36m<listcomp>\u001b[0;34m(.0)\u001b[0m\n\u001b[1;32m      8\u001b[0m \u001b[0mmetin\u001b[0m \u001b[0;34m=\u001b[0m \u001b[0;34m\"Öğrenciler sınavlara çalışırken bazen zorlanıyorlar.\"\u001b[0m\u001b[0;34m\u001b[0m\u001b[0;34m\u001b[0m\u001b[0m\n\u001b[1;32m      9\u001b[0m \u001b[0mkelimeler\u001b[0m \u001b[0;34m=\u001b[0m \u001b[0mmetin\u001b[0m\u001b[0;34m.\u001b[0m\u001b[0msplit\u001b[0m\u001b[0;34m(\u001b[0m\u001b[0;34m)\u001b[0m\u001b[0;34m\u001b[0m\u001b[0;34m\u001b[0m\u001b[0m\n\u001b[0;32m---> 10\u001b[0;31m \u001b[0mkokler\u001b[0m \u001b[0;34m=\u001b[0m \u001b[0;34m[\u001b[0m\u001b[0mfind_stem\u001b[0m\u001b[0;34m(\u001b[0m\u001b[0mkelime\u001b[0m\u001b[0;34m)\u001b[0m \u001b[0;32mfor\u001b[0m \u001b[0mkelime\u001b[0m \u001b[0;32min\u001b[0m \u001b[0mkelimeler\u001b[0m\u001b[0;34m]\u001b[0m\u001b[0;34m\u001b[0m\u001b[0;34m\u001b[0m\u001b[0m\n\u001b[0m\u001b[1;32m     11\u001b[0m \u001b[0;34m\u001b[0m\u001b[0m\n\u001b[1;32m     12\u001b[0m \u001b[0mprint\u001b[0m\u001b[0;34m(\u001b[0m\u001b[0;34m\"Orijinal:\"\u001b[0m\u001b[0;34m,\u001b[0m \u001b[0mkelimeler\u001b[0m\u001b[0;34m)\u001b[0m\u001b[0;34m\u001b[0m\u001b[0;34m\u001b[0m\u001b[0m\n",
            "\u001b[0;32m<ipython-input-28-a3432c0f8d40>\u001b[0m in \u001b[0;36mfind_stem\u001b[0;34m(word)\u001b[0m\n\u001b[1;32m      1\u001b[0m \u001b[0;31m# Kök bulma fonksiyonu\u001b[0m\u001b[0;34m\u001b[0m\u001b[0;34m\u001b[0m\u001b[0m\n\u001b[1;32m      2\u001b[0m \u001b[0;32mdef\u001b[0m \u001b[0mfind_stem\u001b[0m\u001b[0;34m(\u001b[0m\u001b[0mword\u001b[0m\u001b[0;34m)\u001b[0m\u001b[0;34m:\u001b[0m\u001b[0;34m\u001b[0m\u001b[0;34m\u001b[0m\u001b[0m\n\u001b[0;32m----> 3\u001b[0;31m     \u001b[0manalysis\u001b[0m \u001b[0;34m=\u001b[0m \u001b[0mmorphology\u001b[0m\u001b[0;34m.\u001b[0m\u001b[0manalyze\u001b[0m\u001b[0;34m(\u001b[0m\u001b[0mword\u001b[0m\u001b[0;34m)\u001b[0m\u001b[0;34m\u001b[0m\u001b[0;34m\u001b[0m\u001b[0m\n\u001b[0m\u001b[1;32m      4\u001b[0m     \u001b[0mresults\u001b[0m \u001b[0;34m=\u001b[0m \u001b[0;34m[\u001b[0m\u001b[0mresult\u001b[0m\u001b[0;34m.\u001b[0m\u001b[0mgetStem\u001b[0m\u001b[0;34m(\u001b[0m\u001b[0;34m)\u001b[0m \u001b[0;32mfor\u001b[0m \u001b[0mresult\u001b[0m \u001b[0;32min\u001b[0m \u001b[0manalysis\u001b[0m\u001b[0;34m]\u001b[0m\u001b[0;34m\u001b[0m\u001b[0;34m\u001b[0m\u001b[0m\n\u001b[1;32m      5\u001b[0m     \u001b[0;32mreturn\u001b[0m \u001b[0mresults\u001b[0m\u001b[0;34m[\u001b[0m\u001b[0;36m0\u001b[0m\u001b[0;34m]\u001b[0m \u001b[0;32mif\u001b[0m \u001b[0mresults\u001b[0m \u001b[0;32melse\u001b[0m \u001b[0mword\u001b[0m\u001b[0;34m\u001b[0m\u001b[0;34m\u001b[0m\u001b[0m\n",
            "\u001b[0;31mNameError\u001b[0m: name 'morphology' is not defined"
          ]
        }
      ]
    },
    {
      "cell_type": "code",
      "source": [],
      "metadata": {
        "colab": {
          "base_uri": "https://localhost:8080/",
          "height": 551
        },
        "id": "0DcXj1h7yhxt",
        "outputId": "0b1e1a4b-4fe3-4d1f-a47c-8df4abe1e21c"
      },
      "execution_count": null,
      "outputs": [
        {
          "output_type": "error",
          "ename": "SystemError",
          "evalue": "JVM failed to start: -5",
          "traceback": [
            "\u001b[0;31m---------------------------------------------------------------------------\u001b[0m",
            "\u001b[0;31mSystemError\u001b[0m                               Traceback (most recent call last)",
            "\u001b[0;32m<ipython-input-24-a4c9ecc9e7a1>\u001b[0m in \u001b[0;36m<cell line: 0>\u001b[0;34m()\u001b[0m\n\u001b[1;32m      3\u001b[0m \u001b[0mos\u001b[0m\u001b[0;34m.\u001b[0m\u001b[0menviron\u001b[0m\u001b[0;34m[\u001b[0m\u001b[0;34m\"CLASSPATH\"\u001b[0m\u001b[0;34m]\u001b[0m \u001b[0;34m=\u001b[0m \u001b[0;34m\"/content/zemberek.jar\"\u001b[0m  \u001b[0;31m# Zemberek JAR dosyasının yolunu belirle\u001b[0m\u001b[0;34m\u001b[0m\u001b[0;34m\u001b[0m\u001b[0m\n\u001b[1;32m      4\u001b[0m \u001b[0;34m\u001b[0m\u001b[0m\n\u001b[0;32m----> 5\u001b[0;31m \u001b[0;32mfrom\u001b[0m \u001b[0mjnius\u001b[0m \u001b[0;32mimport\u001b[0m \u001b[0mautoclass\u001b[0m\u001b[0;34m\u001b[0m\u001b[0;34m\u001b[0m\u001b[0m\n\u001b[0m\u001b[1;32m      6\u001b[0m \u001b[0;34m\u001b[0m\u001b[0m\n\u001b[1;32m      7\u001b[0m \u001b[0;31m# Zemberek sınıflarını yükleyelim\u001b[0m\u001b[0;34m\u001b[0m\u001b[0;34m\u001b[0m\u001b[0m\n",
            "\u001b[0;32m/usr/local/lib/python3.11/dist-packages/jnius/__init__.py\u001b[0m in \u001b[0;36m<module>\u001b[0;34m\u001b[0m\n\u001b[1;32m     43\u001b[0m \u001b[0;32melse\u001b[0m\u001b[0;34m:\u001b[0m\u001b[0;34m\u001b[0m\u001b[0;34m\u001b[0m\u001b[0m\n\u001b[1;32m     44\u001b[0m     \u001b[0;32mfrom\u001b[0m \u001b[0;34m.\u001b[0m\u001b[0mjnius\u001b[0m \u001b[0;32mimport\u001b[0m \u001b[0;34m*\u001b[0m  \u001b[0;31m# noqa\u001b[0m\u001b[0;34m\u001b[0m\u001b[0;34m\u001b[0m\u001b[0m\n\u001b[0;32m---> 45\u001b[0;31m     \u001b[0;32mfrom\u001b[0m \u001b[0;34m.\u001b[0m\u001b[0mreflect\u001b[0m \u001b[0;32mimport\u001b[0m \u001b[0;34m*\u001b[0m  \u001b[0;31m# noqa\u001b[0m\u001b[0;34m\u001b[0m\u001b[0;34m\u001b[0m\u001b[0m\n\u001b[0m\u001b[1;32m     46\u001b[0m \u001b[0;34m\u001b[0m\u001b[0m\n\u001b[1;32m     47\u001b[0m \u001b[0;31m# XXX monkey patch methods that cannot be in cython.\u001b[0m\u001b[0;34m\u001b[0m\u001b[0;34m\u001b[0m\u001b[0m\n",
            "\u001b[0;32m/usr/local/lib/python3.11/dist-packages/jnius/reflect.py\u001b[0m in \u001b[0;36m<module>\u001b[0;34m\u001b[0m\n\u001b[1;32m     17\u001b[0m \u001b[0;34m\u001b[0m\u001b[0m\n\u001b[1;32m     18\u001b[0m \u001b[0;34m\u001b[0m\u001b[0m\n\u001b[0;32m---> 19\u001b[0;31m \u001b[0;32mclass\u001b[0m \u001b[0mClass\u001b[0m\u001b[0;34m(\u001b[0m\u001b[0mJavaClass\u001b[0m\u001b[0;34m,\u001b[0m \u001b[0mmetaclass\u001b[0m\u001b[0;34m=\u001b[0m\u001b[0mMetaJavaClass\u001b[0m\u001b[0;34m)\u001b[0m\u001b[0;34m:\u001b[0m\u001b[0;34m\u001b[0m\u001b[0;34m\u001b[0m\u001b[0m\n\u001b[0m\u001b[1;32m     20\u001b[0m     \u001b[0m__javaclass__\u001b[0m \u001b[0;34m=\u001b[0m \u001b[0;34m'java/lang/Class'\u001b[0m\u001b[0;34m\u001b[0m\u001b[0;34m\u001b[0m\u001b[0m\n\u001b[1;32m     21\u001b[0m \u001b[0;34m\u001b[0m\u001b[0m\n",
            "\u001b[0;32mjnius/jnius_export_class.pxi\u001b[0m in \u001b[0;36mjnius.MetaJavaClass.__new__\u001b[0;34m()\u001b[0m\n",
            "\u001b[0;32mjnius/jnius_export_class.pxi\u001b[0m in \u001b[0;36mjnius.MetaJavaClass.resolve_class\u001b[0;34m()\u001b[0m\n",
            "\u001b[0;32mjnius/jnius_env.pxi\u001b[0m in \u001b[0;36mjnius.get_jnienv\u001b[0;34m()\u001b[0m\n",
            "\u001b[0;32mjnius/jnius_jvm_dlopen.pxi\u001b[0m in \u001b[0;36mjnius.get_platform_jnienv\u001b[0;34m()\u001b[0m\n",
            "\u001b[0;32mjnius/jnius_jvm_dlopen.pxi\u001b[0m in \u001b[0;36mjnius.create_jnienv\u001b[0;34m()\u001b[0m\n",
            "\u001b[0;31mSystemError\u001b[0m: JVM failed to start: -5"
          ]
        }
      ]
    },
    {
      "cell_type": "markdown",
      "source": [],
      "metadata": {
        "id": "Ng-Y8mXmufs1"
      }
    },
    {
      "cell_type": "code",
      "source": [
        "# JVM'yi kapat\n",
        "jpype.shutdownJVM()"
      ],
      "metadata": {
        "id": "KsgW7f4JwaU6"
      },
      "execution_count": null,
      "outputs": []
    }
  ]
}